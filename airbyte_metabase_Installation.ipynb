{
 "cells": [
  {
   "cell_type": "markdown",
   "metadata": {},
   "source": [
    "# Insalling Airbyte and Metabase on EC2 Instance"
   ]
  },
  {
   "cell_type": "markdown",
   "metadata": {},
   "source": [
    "<P>It is recommended to use a t2.medium to run Airbyte properly.  <br>Anything smaller may cause the instance to crash or time-out</p>"
   ]
  },
  {
   "cell_type": "markdown",
   "metadata": {},
   "source": [
    "## 1 - Install docker and docker compose"
   ]
  },
  {
   "cell_type": "markdown",
   "metadata": {},
   "source": [
    "#### Step 1 - Install docker"
   ]
  },
  {
   "cell_type": "code",
   "execution_count": null,
   "metadata": {
    "vscode": {
     "languageId": "shellscript"
    }
   },
   "outputs": [],
   "source": [
    "sudo apt update\n",
    "sudo apt upgrade -y\n",
    "sudo apt install docker.io\n",
    "# Check that docker is installed\n",
    "docker --version"
   ]
  },
  {
   "cell_type": "markdown",
   "metadata": {},
   "source": [
    "#### After running upgrade-y you may see a pink screen that says 'Pending Kernel Upgrade'"
   ]
  },
  {
   "cell_type": "markdown",
   "metadata": {},
   "source": [
    "<img src=\"Images/KernelUpgrade_800.png\" alt=\"KernelUpgradeNeeded\" width=\"650ptx\">"
   ]
  },
  {
   "cell_type": "markdown",
   "metadata": {},
   "source": [
    "#### If you do just make sure that the OK button is highlighted and hit enter.  We will fix this in a later step."
   ]
  },
  {
   "cell_type": "markdown",
   "metadata": {},
   "source": [
    "#### Step 2 - Install docker compose (manually)"
   ]
  },
  {
   "cell_type": "code",
   "execution_count": null,
   "metadata": {
    "vscode": {
     "languageId": "shellscript"
    }
   },
   "outputs": [],
   "source": [
    "# Set the docker home folder and create a cli-plugins directory for docker compose\n",
    "DOCKER_CONFIG=${DOCKER_CONFIG:-$HOME/.docker} \n",
    "mkdir -p $DOCKER_CONFIG/cli-plugins\n",
    "# download docker compose into the cli-plugins directory \n",
    "# and change permissions to allow execution\n",
    "curl -SL https://github.com/docker/compose/releases/download/v2.18.1/docker-compose-linux-x86_64 -o $DOCKER_CONFIG/cli-plugins/docker-compose\n",
    "chmod +x $DOCKER_CONFIG/cli-plugins/docker-compose\n",
    "# check that docker compose is installed\n",
    "docker compose version"
   ]
  },
  {
   "cell_type": "markdown",
   "metadata": {},
   "source": [
    "#### Step 3 - Confirm that you can use docker"
   ]
  },
  {
   "cell_type": "code",
   "execution_count": null,
   "metadata": {},
   "outputs": [],
   "source": [
    "docker ps -a"
   ]
  },
  {
   "cell_type": "markdown",
   "metadata": {},
   "source": [
    "`Got permission denied while trying to connect to the Docker daemon socket at \n",
    "unix:///var/run/docker.sock: Get \"http://%2Fvar%2Frun%2Fdocker.sock/v1.24/containers/json?all=1\": \n",
    "dial unix /var/run/docker.sock: connect: permission denied`"
   ]
  },
  {
   "cell_type": "markdown",
   "metadata": {},
   "source": [
    "<p>At this point. You may notice that you need to run sudo before you can useany docker commands.  When you installed docker.io, a docker group was automatically created with only root access. To run the docker daemon without having to enter sudo every time add your current user to the docker group.</p>"
   ]
  },
  {
   "cell_type": "code",
   "execution_count": null,
   "metadata": {},
   "outputs": [],
   "source": [
    "sudo usermod -aG docker $USER"
   ]
  },
  {
   "cell_type": "markdown",
   "metadata": {},
   "source": [
    "<p> in order for this to take effect on a EC2 instance, you must reboot the instance.  Doing so will do two things. 1) it will update the kernel (the pink screen we encountered before), and evaluate the group change to take effect.</p>"
   ]
  },
  {
   "cell_type": "code",
   "execution_count": null,
   "metadata": {},
   "outputs": [],
   "source": [
    "sudo reboot\n",
    "# run this and wait a few moments for the system to reboot."
   ]
  },
  {
   "cell_type": "code",
   "execution_count": null,
   "metadata": {},
   "outputs": [],
   "source": [
    "# after logging back in try to confirm that you can use docker again.\n",
    "docker ps -a\n",
    "\n",
    "CONTAINER ID   IMAGE     COMMAND   CREATED   STATUS    PORTS     NAMES\n",
    "\n",
    "# If you want, you can also run a test pull by running the following command.  \n",
    "# If everything is installed properly it will pull the image and run 'hello world' in the terminal\n",
    "docker run hello-world"
   ]
  },
  {
   "cell_type": "markdown",
   "metadata": {},
   "source": [
    "## 2 - Install Airbyte"
   ]
  },
  {
   "cell_type": "markdown",
   "metadata": {},
   "source": [
    "#### Step 1 - Install Airbyte"
   ]
  },
  {
   "cell_type": "code",
   "execution_count": null,
   "metadata": {
    "vscode": {
     "languageId": "shellscript"
    }
   },
   "outputs": [],
   "source": [
    "# cone airbyte repository to your home directory.  This will create a folder named airbyte\n",
    "git clone https://github.com/airbytehq/airbyte.git\n",
    "cd airbyte\n",
    "# running the following command for the first time will initiate docker to pull and run the airbyte image\n",
    "./run-ab-platform.sh"
   ]
  },
  {
   "cell_type": "markdown",
   "metadata": {},
   "source": [
    "<p>You will see the images being pulled and upon completion you'll see \"Airbyte containers are running\".  This may take a few minutes</p>"
   ]
  },
  {
   "cell_type": "markdown",
   "metadata": {},
   "source": [
    "username `airbyte` and password `password`\n",
    "url: ip-of-ec2:8000"
   ]
  },
  {
   "cell_type": "markdown",
   "metadata": {},
   "source": [
    "#### Step 2 - Validate the Installation"
   ]
  },
  {
   "cell_type": "markdown",
   "metadata": {},
   "source": [
    "1. First you should log out of the instance by running<br>\n",
    "`exit`\n",
    "2. Next ssh back into your instance, however we are going to make a couple of changes. Typically your instance connection would be:<br>\n",
    "`ssh -i <SSH_KEY.pem> ubuntu@<INSTANCE_IP>`<br>\n",
    "However we want to view airbyte in our local browser.  To do so ssh into your instance using the following command:<br>`ssh -i <SSH_KEY.pem> -L 8000:localhost:8000 -N -f ubuntu@<INSTANCE_IP>`<br>\n",
    "See MAN SSH for details on the flags used here and all other available tags.<br> *Note that the -N flag causes the terminal to not run the shell so you will stay in your local terminal.\n",
    "3. Now in your local browser, visit `http://localhost:8000`. If your installation worked correctly you will see a login popup for you to enter your username and password.\n",
    "username `airbyte` and password `password`<br>\n",
    "If all worked well you will see the following screen:<br>"
   ]
  },
  {
   "cell_type": "markdown",
   "metadata": {},
   "source": [
    "<img src=\"Images/Airbyte.png\" width=\"650ptx\" />"
   ]
  },
  {
   "cell_type": "markdown",
   "metadata": {},
   "source": [
    "## 3 - Install Metabase"
   ]
  },
  {
   "cell_type": "markdown",
   "metadata": {},
   "source": [
    "#### Before you start this portion, make sure that your EC2 outbound security rules has CustomTCP Port 3000 open anywhere 0.0.0.0/0\t"
   ]
  },
  {
   "cell_type": "markdown",
   "metadata": {},
   "source": [
    "#### Step 1 - Pull the Metabase docker image\n"
   ]
  },
  {
   "cell_type": "code",
   "execution_count": null,
   "metadata": {
    "vscode": {
     "languageId": "shellscript"
    }
   },
   "outputs": [],
   "source": [
    "docker pull metabase/metabase:latest"
   ]
  },
  {
   "cell_type": "markdown",
   "metadata": {},
   "source": [
    "#### Step 2 - Run the docker container"
   ]
  },
  {
   "cell_type": "code",
   "execution_count": null,
   "metadata": {
    "vscode": {
     "languageId": "shellscript"
    }
   },
   "outputs": [],
   "source": [
    "docker run -d -p 3000:3000 --name metabase metabase/metabase\n",
    "# if you want to see the logs as metabase installs then run.  control + c to quit.\n",
    "docker logs -f metabase"
   ]
  },
  {
   "cell_type": "markdown",
   "metadata": {},
   "source": [
    "The above command will launch Metabase server on port 3000 by default\n",
    "*Note You will have to wait a few moments for the server to fully start up."
   ]
  },
  {
   "cell_type": "markdown",
   "metadata": {},
   "source": [
    "Or, if you want to store the metadata of Metabase in your own database, you can use the following command to run the docker container:"
   ]
  },
  {
   "cell_type": "code",
   "execution_count": null,
   "metadata": {
    "vscode": {
     "languageId": "shellscript"
    }
   },
   "outputs": [],
   "source": [
    "docker run -d -p 3000:3000 \\\n",
    "  -e \"MB_DB_TYPE=postgres\" \\\n",
    "  -e \"MB_DB_DBNAME=<metabasea db>\" \\\n",
    "  -e \"MB_DB_PORT=5432\" \\\n",
    "  -e \"MB_DB_USER=name\" \\\n",
    "  -e \"MB_DB_PASS=password\" \\\n",
    "  -e \"MB_DB_HOST=my-database-host\" \\\n",
    "   --name metabase metabase/metabase"
   ]
  },
  {
   "cell_type": "markdown",
   "metadata": {},
   "source": [
    "#### Step 3 - Validate the Installation"
   ]
  },
  {
   "cell_type": "markdown",
   "metadata": {},
   "source": [
    "Exactly like we validated for Airbyte, complete the following steps to check your metabase installation\n",
    "1. First you should log out of the instance by running<br>\n",
    "`exit`\n",
    "2. ssh into your instance using the following command:\n",
    "<br>`ssh -i <SSH_KEY.pem> -L 3000:localhost:3000 -N -f ubuntu@<INSTANCE_IP>`<br>\n",
    "3. In your local browser, visit `http://localhost:3000`. If your installation worked correctly you will see the following page:"
   ]
  },
  {
   "cell_type": "markdown",
   "metadata": {},
   "source": [
    "<img src=\"Images/Metabase.png\" width=\"650ptx\" />"
   ]
  },
  {
   "cell_type": "code",
   "execution_count": null,
   "metadata": {},
   "outputs": [],
   "source": []
  }
 ],
 "metadata": {
  "kernelspec": {
   "display_name": "Python 3 (ipykernel)",
   "language": "python",
   "name": "python3"
  },
  "language_info": {
   "codemirror_mode": {
    "name": "ipython",
    "version": 3
   },
   "file_extension": ".py",
   "mimetype": "text/x-python",
   "name": "python",
   "nbconvert_exporter": "python",
   "pygments_lexer": "ipython3",
   "version": "3.11.3"
  }
 },
 "nbformat": 4,
 "nbformat_minor": 2
}
