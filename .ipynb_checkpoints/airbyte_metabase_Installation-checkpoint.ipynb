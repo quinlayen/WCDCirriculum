{
 "cells": [
  {
   "cell_type": "markdown",
   "metadata": {},
   "source": [
    "# Insalling Airbyte and Metabase on EC2 Instance"
   ]
  },
  {
   "cell_type": "markdown",
   "metadata": {},
   "source": [
    "## 1 - Install docker and docker compose"
   ]
  },
  {
   "cell_type": "markdown",
   "metadata": {},
   "source": [
    "#### Step 1 - Install docker"
   ]
  },
  {
   "cell_type": "code",
   "execution_count": null,
   "metadata": {
    "vscode": {
     "languageId": "shellscript"
    }
   },
   "outputs": [],
   "source": [
    "sudo apt update\n",
    "sudo apt upgrade -y\n",
    "sudo apt install docker.io"
   ]
  },
  {
   "cell_type": "markdown",
   "metadata": {},
   "source": [
    "#### Step 2 - Install docker compose"
   ]
  },
  {
   "cell_type": "code",
   "execution_count": null,
   "metadata": {
    "vscode": {
     "languageId": "shellscript"
    }
   },
   "outputs": [],
   "source": [
    "# Install docker compose V2 manually\n",
    "# reference https://docs.docker.com/compose/install/linux\n",
    "DOCKER_CONFIG=${DOCKER_CONFIG:-$HOME/.docker}\n",
    "mkdir -p $DOCKER_CONFIG/cli-plugins\n",
    "curl -SL https://github.com/docker/compose/releases/download/v2.18.1/docker-compose-linux-x86_64 -o $DOCKER_CONFIG/cli-plugins/docker-compose\n",
    "chmod +x $DOCKER_CONFIG/cli-plugins/docker-compose\n",
    "docker compose version"
   ]
  },
  {
   "cell_type": "markdown",
   "metadata": {},
   "source": [
    "## 2 - Install Airbyte"
   ]
  },
  {
   "cell_type": "markdown",
   "metadata": {},
   "source": [
    "#### Step 1 - Install Airbyte"
   ]
  },
  {
   "cell_type": "code",
   "execution_count": null,
   "metadata": {
    "vscode": {
     "languageId": "shellscript"
    }
   },
   "outputs": [],
   "source": [
    "# reference: https://docs.airbyte.com/quickstart/deploy-airbyte/\n",
    "git clone https://github.com/airbytehq/airbyte.git\n",
    "cd airbyte\n",
    "./run-ab-platform.sh"
   ]
  },
  {
   "cell_type": "markdown",
   "metadata": {},
   "source": [
    "*above commnands:  please highlight, what command is installation and what command is run the application.*"
   ]
  },
  {
   "cell_type": "markdown",
   "metadata": {},
   "source": [
    "username `airbyte` and password `password`\n",
    "url: ip-of-ec2:8000"
   ]
  },
  {
   "cell_type": "markdown",
   "metadata": {},
   "source": [
    "#### Step 2 - Validate the Installation"
   ]
  },
  {
   "cell_type": "markdown",
   "metadata": {},
   "source": [
    "*1. how to check if the airbyte installation is sucessful? like use \"airbyte --version\" to check?*\n",
    "*2. how the UI looks like when run the airbyte. Display an image* "
   ]
  },
  {
   "cell_type": "markdown",
   "metadata": {},
   "source": [
    "## 3 - Install Metabase"
   ]
  },
  {
   "cell_type": "markdown",
   "metadata": {},
   "source": [
    "#### Step 1 - Pull the Metabase docker image\n"
   ]
  },
  {
   "cell_type": "code",
   "execution_count": null,
   "metadata": {
    "vscode": {
     "languageId": "shellscript"
    }
   },
   "outputs": [],
   "source": [
    "docker pull metabase/metabase:latest"
   ]
  },
  {
   "cell_type": "markdown",
   "metadata": {},
   "source": [
    "#### Step 2 - Run the docker container"
   ]
  },
  {
   "cell_type": "code",
   "execution_count": null,
   "metadata": {
    "vscode": {
     "languageId": "shellscript"
    }
   },
   "outputs": [],
   "source": [
    "docker run -d -p 3000:3000 --name metabase metabase/metabase"
   ]
  },
  {
   "cell_type": "markdown",
   "metadata": {},
   "source": [
    "Or, if you want to store the metadata of Metabase in your own database, you can use the following command to run the docker container:"
   ]
  },
  {
   "cell_type": "code",
   "execution_count": null,
   "metadata": {
    "vscode": {
     "languageId": "shellscript"
    }
   },
   "outputs": [],
   "source": [
    "docker run -d -p 3000:3000 \\\n",
    "  -e \"MB_DB_TYPE=postgres\" \\\n",
    "  -e \"MB_DB_DBNAME=<metabasea db>\" \\\n",
    "  -e \"MB_DB_PORT=5432\" \\\n",
    "  -e \"MB_DB_USER=name\" \\\n",
    "  -e \"MB_DB_PASS=password\" \\\n",
    "  -e \"MB_DB_HOST=my-database-host\" \\\n",
    "   --name metabase metabase/metabase"
   ]
  },
  {
   "cell_type": "markdown",
   "metadata": {},
   "source": [
    "#### Step 3 - Validate the Installation"
   ]
  },
  {
   "cell_type": "markdown",
   "metadata": {},
   "source": [
    "*1. how to check if the metabase installation is sucessful? like use \"metabase --version\" to check?*\n",
    "*2. how the UI looks like when run the metabase. Display an image* "
   ]
  }
 ],
 "metadata": {
  "kernelspec": {
   "display_name": "Python 3 (ipykernel)",
   "language": "python",
   "name": "python3"
  },
  "language_info": {
   "codemirror_mode": {
    "name": "ipython",
    "version": 3
   },
   "file_extension": ".py",
   "mimetype": "text/x-python",
   "name": "python",
   "nbconvert_exporter": "python",
   "pygments_lexer": "ipython3",
   "version": "3.11.3"
  }
 },
 "nbformat": 4,
 "nbformat_minor": 2
}
